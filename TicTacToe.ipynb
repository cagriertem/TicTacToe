{
 "cells": [
  {
   "cell_type": "markdown",
   "metadata": {},
   "source": [
    "# TicTacToe"
   ]
  },
  {
   "cell_type": "code",
   "execution_count": 2,
   "metadata": {},
   "outputs": [],
   "source": [
    "from collections import namedtuple\n",
    "import random\n",
    "import math"
   ]
  },
  {
   "cell_type": "code",
   "execution_count": 3,
   "metadata": {},
   "outputs": [],
   "source": [
    "GameState = namedtuple('GameState','to_move, utility, board, moves')"
   ]
  },
  {
   "cell_type": "code",
   "execution_count": 4,
   "metadata": {},
   "outputs": [],
   "source": [
    "class TicTacToe:\n",
    "    def __init__(self):\n",
    "        moves = [(0, 0), (0, 1), (0, 2), \n",
    "                 (1, 0), (1, 1), (1, 2), \n",
    "                 (2, 0), (2, 1), (2, 2)]\n",
    "        self.initial = GameState(to_move=\"X\", utility=0, board={}, moves=moves)\n",
    "\n",
    "    def actions(self, state):\n",
    "        # Returns legal moves (i.e. empty spaces)\n",
    "        return state.moves\n",
    "\n",
    "    def player(self, state):\n",
    "        return state.to_move\n",
    "\n",
    "    def result(self, state, move):\n",
    "        if move not in state.moves:\n",
    "            return state  # Illegal move\n",
    "\n",
    "        # Player to make a move\n",
    "        player = self.player(state)\n",
    "\n",
    "        # Board next turn\n",
    "        board_next_turn = state.board.copy()\n",
    "        board_next_turn[move] = player\n",
    "\n",
    "        # Available moves next turn\n",
    "        moves_next_turn = list(state.moves)\n",
    "        moves_next_turn.remove(move)\n",
    "\n",
    "        # Player to make a move next turn\n",
    "        if player == \"X\":\n",
    "            player_next_turn = \"O\"\n",
    "        else:\n",
    "            player_next_turn = \"X\"\n",
    "\n",
    "        # Whether the player wins the game after move\n",
    "        win = self.three_in_row(board_next_turn, move, player)\n",
    "\n",
    "        # Utility of the next state of the game\n",
    "        if not win:\n",
    "            utility_next_turn = 0\n",
    "        elif player == \"X\":\n",
    "            utility_next_turn = 1\n",
    "        else:\n",
    "            utility_next_turn = -1\n",
    "\n",
    "        return GameState(\n",
    "            to_move=player_next_turn,\n",
    "            utility=utility_next_turn,\n",
    "            board=board_next_turn,\n",
    "            moves=moves_next_turn,\n",
    "        )\n",
    "\n",
    "    def terminal(self, state):\n",
    "        return state.utility != 0 or len(state.moves) == 0\n",
    "\n",
    "    def three_in_row(self, board, move, player):\n",
    "        # Returns true if player has three pieces in a line through square\n",
    "        for (dx, dy) in ((0, 1), (1, 0), (1, 1), (1, -1)):\n",
    "\n",
    "            n = 0\n",
    "            x, y = move\n",
    "            while board.get((x, y)) == player:\n",
    "                n = n + 1\n",
    "                x = x + dx\n",
    "                y = y + dy\n",
    "\n",
    "            x, y = move\n",
    "            while board.get((x, y)) == player:\n",
    "                n = n + 1\n",
    "                x = x - dx\n",
    "                y = y - dy\n",
    "\n",
    "            n = n - 1\n",
    "\n",
    "            if n >= 3:\n",
    "                return True\n",
    "\n",
    "        return False\n",
    "\n",
    "    def utility(self, state, player):\n",
    "        if player == \"X\":\n",
    "            return state.utility\n",
    "        else:\n",
    "            return -state.utility\n",
    "\n",
    "    def display(self, state):\n",
    "        board = state.board\n",
    "        for x in range(3):\n",
    "            for y in range(3):\n",
    "                print(board.get((x, y), \".\"), end=\" \")\n",
    "            print()\n",
    "\n",
    "    def play_game(self, player1, player2):\n",
    "        state = self.initial\n",
    "        players = [player1, player2]\n",
    "        while True:\n",
    "            for player in players:\n",
    "                print(\"-----------------------\")\n",
    "                cur_player = self.player(state)\n",
    "                print(cur_player, \"plays\")\n",
    "                move = player(self, state)\n",
    "                state = self.result(state, move)\n",
    "                self.display(state)\n",
    "                if self.terminal(state):\n",
    "                    print()\n",
    "                    print(\"###########################\")\n",
    "                    if self.utility(state, player) == 0:\n",
    "                        print(\"Draw\")\n",
    "                    else:\n",
    "                        print(cur_player, \"wins!!!\")\n",
    "                    print(\"###########################\")\n",
    "                    return True"
   ]
  },
  {
   "cell_type": "markdown",
   "metadata": {},
   "source": [
    "### Player - Random Player and Minimax Player\n",
    "Below are the functions that represents player agents that plays randomly and those that play with minimax algortihm. "
   ]
  },
  {
   "cell_type": "code",
   "execution_count": 5,
   "metadata": {},
   "outputs": [],
   "source": [
    "infinity = math.inf"
   ]
  },
  {
   "cell_type": "code",
   "execution_count": 6,
   "metadata": {},
   "outputs": [],
   "source": [
    "def random_player(game, state):\n",
    "    if game.actions(state):\n",
    "        return random.choice(game.actions(state))\n",
    "    else:\n",
    "        return None"
   ]
  },
  {
   "cell_type": "code",
   "execution_count": 7,
   "metadata": {},
   "outputs": [],
   "source": [
    "def minmax_player(game, state):\n",
    "    player = game.player(state)\n",
    "    \n",
    "    def max_value(state):\n",
    "        if game.terminal(state):\n",
    "            return game.utility(state,player)\n",
    "        v = -infinity \n",
    "        for a in game.actions(state):\n",
    "            v = max(v, min_value(game.result(state, a)))\n",
    "        return v\n",
    "            \n",
    "    def min_value(state):\n",
    "        if game.terminal(state):\n",
    "            return game.utility(state,player)\n",
    "        v = infinity \n",
    "        for a in game.actions(state):\n",
    "            v = min(v, max_value(game.result(state, a)))\n",
    "        return v\n",
    "    \n",
    "    best_score = -infinity \n",
    "    best_action = None\n",
    "\n",
    "    for a in game.actions(state):\n",
    "        v = min_value(game.result(state,a))\n",
    "        if v > best_score:\n",
    "            best_score = v\n",
    "            best_action = a\n",
    "    return best_action\n",
    "  "
   ]
  },
  {
   "cell_type": "markdown",
   "metadata": {},
   "source": [
    "### Game\n",
    "To play a game, we will create a TicTacToe object from the class we defined above. Below we create one minmax and one random player and we pass these players to `play_game(player1, player2)` method to make them play to each other."
   ]
  },
  {
   "cell_type": "code",
   "execution_count": 12,
   "metadata": {},
   "outputs": [
    {
     "name": "stdout",
     "output_type": "stream",
     "text": [
      "-----------------------\n",
      "X plays\n",
      "X . . \n",
      ". . . \n",
      ". . . \n",
      "-----------------------\n",
      "O plays\n",
      "X . . \n",
      ". . . \n",
      ". . O \n",
      "-----------------------\n",
      "X plays\n",
      "X . X \n",
      ". . . \n",
      ". . O \n",
      "-----------------------\n",
      "O plays\n",
      "X . X \n",
      ". . O \n",
      ". . O \n",
      "-----------------------\n",
      "X plays\n",
      "X X X \n",
      ". . O \n",
      ". . O \n",
      "\n",
      "###########################\n",
      "X wins!!!\n",
      "###########################\n"
     ]
    },
    {
     "data": {
      "text/plain": [
       "True"
      ]
     },
     "execution_count": 12,
     "metadata": {},
     "output_type": "execute_result"
    }
   ],
   "source": [
    "ttt = TicTacToe()\n",
    "p1 = minmax_player\n",
    "p2 = random_player\n",
    "ttt.play_game(p1,p2)"
   ]
  },
  {
   "cell_type": "markdown",
   "metadata": {},
   "source": [
    "### Alpha Beta Pruning\n",
    "\n",
    "Let us implement alpha beta pruning algortihm to the function below. "
   ]
  },
  {
   "cell_type": "markdown",
   "metadata": {},
   "source": [
    "A minmax player playing against a random player."
   ]
  },
  {
   "cell_type": "code",
   "execution_count": 13,
   "metadata": {},
   "outputs": [],
   "source": [
    "def alphabeta_player(game, state):\n",
    "    player = game.player(state)\n",
    "    \n",
    "    def max_value(state, alpha, beta):\n",
    "        if game.terminal(state):\n",
    "            return game.utility(state,player)\n",
    "        v = -infinity\n",
    "        for a in game.actions(state):\n",
    "            v = max(v, min_value(game.result(state,a), alpha, beta))\n",
    "            if v >= beta: \n",
    "                return v\n",
    "            alpha = max(alpha, v)\n",
    "        return v\n",
    "            \n",
    "    def min_value(state, alpha, beta):\n",
    "        if game.terminal(state):\n",
    "            return game.utility(state,player)\n",
    "        v = infinity\n",
    "        for a in game.actions(state):\n",
    "            v = min(v, max_value(game.result(state, a),alpha,beta))\n",
    "            if v <= alpha:\n",
    "                return v            \n",
    "            beta = min(beta, v)\n",
    "        return v\n",
    "    \n",
    "    best_score = -infinity\n",
    "    best_action = None\n",
    "    \n",
    "    for a in game.actions(state):\n",
    "        v = min_value(game.result(state,a), -infinity, infinity)\n",
    "        if v > best_score:\n",
    "            best_score = v\n",
    "            best_action = a\n",
    "    return best_action"
   ]
  },
  {
   "cell_type": "markdown",
   "metadata": {},
   "source": [
    "After implementing alpha beta algorithm, we can make it play against a random player by running the code below."
   ]
  },
  {
   "cell_type": "code",
   "execution_count": 14,
   "metadata": {},
   "outputs": [
    {
     "name": "stdout",
     "output_type": "stream",
     "text": [
      "-----------------------\n",
      "X plays\n",
      "X . . \n",
      ". . . \n",
      ". . . \n",
      "-----------------------\n",
      "O plays\n",
      "X . . \n",
      ". O . \n",
      ". . . \n",
      "-----------------------\n",
      "X plays\n",
      "X X . \n",
      ". O . \n",
      ". . . \n",
      "-----------------------\n",
      "O plays\n",
      "X X . \n",
      ". O . \n",
      ". . O \n",
      "-----------------------\n",
      "X plays\n",
      "X X X \n",
      ". O . \n",
      ". . O \n",
      "\n",
      "###########################\n",
      "X wins!!!\n",
      "###########################\n"
     ]
    },
    {
     "data": {
      "text/plain": [
       "True"
      ]
     },
     "execution_count": 14,
     "metadata": {},
     "output_type": "execute_result"
    }
   ],
   "source": [
    "ttt = TicTacToe()\n",
    "p1 = alphabeta_player\n",
    "p2 = random_player\n",
    "ttt.play_game(p1,p2)"
   ]
  },
  {
   "cell_type": "code",
   "execution_count": null,
   "metadata": {},
   "outputs": [],
   "source": []
  }
 ],
 "metadata": {
  "kernelspec": {
   "display_name": "Python 3 (ipykernel)",
   "language": "python",
   "name": "python3"
  },
  "language_info": {
   "codemirror_mode": {
    "name": "ipython",
    "version": 3
   },
   "file_extension": ".py",
   "mimetype": "text/x-python",
   "name": "python",
   "nbconvert_exporter": "python",
   "pygments_lexer": "ipython3",
   "version": "3.10.9"
  }
 },
 "nbformat": 4,
 "nbformat_minor": 4
}
